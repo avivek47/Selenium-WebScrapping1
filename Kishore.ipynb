{
 "cells": [
  {
   "cell_type": "markdown",
   "id": "3b19bead",
   "metadata": {},
   "source": [
    "# Question 1."
   ]
  },
  {
   "cell_type": "code",
   "execution_count": 37,
   "id": "89a05969",
   "metadata": {},
   "outputs": [
    {
     "name": "stdout",
     "output_type": "stream",
     "text": [
      "Requirement already satisfied: selenium in c:\\users\\lewnovo\\anaconda3\\lib\\site-packages (4.5.0)\n",
      "Requirement already satisfied: trio-websocket~=0.9 in c:\\users\\lewnovo\\anaconda3\\lib\\site-packages (from selenium) (0.9.2)\n",
      "Requirement already satisfied: urllib3[socks]~=1.26 in c:\\users\\lewnovo\\anaconda3\\lib\\site-packages (from selenium) (1.26.9)\n",
      "Requirement already satisfied: trio~=0.17 in c:\\users\\lewnovo\\anaconda3\\lib\\site-packages (from selenium) (0.22.0)\n",
      "Requirement already satisfied: certifi>=2021.10.8 in c:\\users\\lewnovo\\anaconda3\\lib\\site-packages (from selenium) (2021.10.8)\n",
      "Requirement already satisfied: sniffio in c:\\users\\lewnovo\\anaconda3\\lib\\site-packages (from trio~=0.17->selenium) (1.2.0)\n",
      "Requirement already satisfied: exceptiongroup>=1.0.0rc9 in c:\\users\\lewnovo\\anaconda3\\lib\\site-packages (from trio~=0.17->selenium) (1.0.0)\n",
      "Requirement already satisfied: attrs>=19.2.0 in c:\\users\\lewnovo\\anaconda3\\lib\\site-packages (from trio~=0.17->selenium) (21.4.0)\n",
      "Requirement already satisfied: async-generator>=1.9 in c:\\users\\lewnovo\\anaconda3\\lib\\site-packages (from trio~=0.17->selenium) (1.10)\n",
      "Requirement already satisfied: outcome in c:\\users\\lewnovo\\anaconda3\\lib\\site-packages (from trio~=0.17->selenium) (1.2.0)\n",
      "Requirement already satisfied: idna in c:\\users\\lewnovo\\anaconda3\\lib\\site-packages (from trio~=0.17->selenium) (3.3)\n",
      "Requirement already satisfied: sortedcontainers in c:\\users\\lewnovo\\anaconda3\\lib\\site-packages (from trio~=0.17->selenium) (2.4.0)\n",
      "Requirement already satisfied: cffi>=1.14 in c:\\users\\lewnovo\\anaconda3\\lib\\site-packages (from trio~=0.17->selenium) (1.15.0)\n",
      "Requirement already satisfied: pycparser in c:\\users\\lewnovo\\anaconda3\\lib\\site-packages (from cffi>=1.14->trio~=0.17->selenium) (2.21)\n",
      "Requirement already satisfied: wsproto>=0.14 in c:\\users\\lewnovo\\anaconda3\\lib\\site-packages (from trio-websocket~=0.9->selenium) (1.2.0)\n",
      "Requirement already satisfied: PySocks!=1.5.7,<2.0,>=1.5.6 in c:\\users\\lewnovo\\anaconda3\\lib\\site-packages (from urllib3[socks]~=1.26->selenium) (1.7.1)\n",
      "Requirement already satisfied: h11<1,>=0.9.0 in c:\\users\\lewnovo\\anaconda3\\lib\\site-packages (from wsproto>=0.14->trio-websocket~=0.9->selenium) (0.14.0)\n"
     ]
    }
   ],
   "source": [
    "#Let's first install selenium Library\n",
    "!pip install selenium"
   ]
  },
  {
   "cell_type": "code",
   "execution_count": 38,
   "id": "a645ea12",
   "metadata": {},
   "outputs": [],
   "source": [
    "# Let's import all required Libraries\n",
    "import selenium                              # Library that is uused to work with selenium.\n",
    "from selenium import webdriver               # Importing webdriver module from selenium to open automated chrome window\n",
    "import pandas as pd                          # to create Dataframe\n",
    "from selenium.webdriver.common.by import By  # importing inbuilt class by\n",
    "import warnings                              # to ignore any sort of warning\n",
    "warnings.filterwarnings(\"ignore\")       \n",
    "import time                                  # use to stop engine for few seconds"
   ]
  },
  {
   "cell_type": "code",
   "execution_count": 68,
   "id": "b9288f53",
   "metadata": {},
   "outputs": [],
   "source": [
    "# Let's frist connect to web driver\n",
    "driver = webdriver.Chrome(r\"C:\\Users\\Lewnovo\\chromedriver.exe\")"
   ]
  },
  {
   "cell_type": "code",
   "execution_count": 4,
   "id": "c38d0743",
   "metadata": {},
   "outputs": [],
   "source": [
    "# Let's maximize the automated chrome window\n",
    "driver.maximize_window()"
   ]
  },
  {
   "cell_type": "code",
   "execution_count": 5,
   "id": "e1c5ddce",
   "metadata": {},
   "outputs": [],
   "source": [
    "# Another method to connect web driver\n",
    "driver = webdriver.Chrome('chromedriver.exe')"
   ]
  },
  {
   "cell_type": "code",
   "execution_count": 63,
   "id": "88ba04ae",
   "metadata": {},
   "outputs": [],
   "source": [
    "#opening up naukri.com website on automated chrome window\n",
    "url = 'https://www.naukri.com/'\n",
    "driver.get(url)"
   ]
  },
  {
   "cell_type": "code",
   "execution_count": 7,
   "id": "585f3417",
   "metadata": {},
   "outputs": [],
   "source": [
    "# finding web element for search job bar\n",
    "search_job = driver.find_element(By.CLASS_NAME,\"suggestor-input\")\n",
    "search_job.send_keys(\"Data scientist\")"
   ]
  },
  {
   "cell_type": "code",
   "execution_count": 8,
   "id": "1d70c5f3",
   "metadata": {},
   "outputs": [],
   "source": [
    "#fnding web elements for search locn bar using absolute xpath\n",
    "search_locn = driver.find_element(By.XPATH,\"/html[1]/body[1]/div[1]/div[6]/div[1]/div[1]/div[5]/div[1]/div[1]/div[1]/input[1]\")\n",
    "search_locn.send_keys(\"Banglore\")"
   ]
  },
  {
   "cell_type": "code",
   "execution_count": 9,
   "id": "f19308fb",
   "metadata": {},
   "outputs": [],
   "source": [
    "# Clicking using absolute xpath function\n",
    "search_locn = driver.find_element(By.CLASS_NAME,\"qsbSubmit\")\n",
    "search_locn.click() "
   ]
  },
  {
   "cell_type": "markdown",
   "id": "e255d7b8",
   "metadata": {},
   "source": [
    "# Extracting job titles"
   ]
  },
  {
   "cell_type": "code",
   "execution_count": 33,
   "id": "4751c9ac",
   "metadata": {},
   "outputs": [
    {
     "name": "stdout",
     "output_type": "stream",
     "text": [
      "10\n"
     ]
    },
    {
     "data": {
      "text/plain": [
       "['Analystics & Modeling Specialist',\n",
       " 'Senior Data Scientist',\n",
       " 'Assistant Manager - Data Science',\n",
       " 'Data Scientist',\n",
       " 'Data Scientist',\n",
       " 'Data Scientist',\n",
       " 'ACN - Applied Intelligence - Data Scientist - 09',\n",
       " 'Data Scientist - 2',\n",
       " 'Data Scientist - Looking For Immediate Joiners',\n",
       " 'Senior Data Scientist']"
      ]
     },
     "execution_count": 33,
     "metadata": {},
     "output_type": "execute_result"
    }
   ],
   "source": [
    "# Let's extract all web elements having job titles\n",
    "job_titles = []\n",
    "title_tags = driver.find_elements(By.XPATH,\"//i[@class='fleft naukicon naukicon-checkbox']\")\n",
    "for i  in title_tags[0:10]:\n",
    "    job_titles.append(i.text)\n",
    "print(len(job_titles))\n",
    "\n",
    "job_titles"
   ]
  },
  {
   "cell_type": "markdown",
   "id": "e9e467a7",
   "metadata": {},
   "source": [
    "# Extracting company names"
   ]
  },
  {
   "cell_type": "code",
   "execution_count": 34,
   "id": "6120defd",
   "metadata": {},
   "outputs": [
    {
     "data": {
      "text/plain": [
       "['Accenture',\n",
       " 'Wipro',\n",
       " 'Citiustech',\n",
       " 'Shell Info Technologies Private Limited',\n",
       " 'Altair',\n",
       " 'Quest Global',\n",
       " 'Accenture',\n",
       " '24 7 ai',\n",
       " 'Wipro',\n",
       " 'Boston Consulting Group']"
      ]
     },
     "execution_count": 34,
     "metadata": {},
     "output_type": "execute_result"
    }
   ],
   "source": [
    "# Let's extract all web elements having company names\n",
    "company_names = []\n",
    "company_tags = driver.find_elements(By.XPATH,'//a[@class=\"subTitle ellipsis fleft\"]')\n",
    "for i in company_tags[0:10]:\n",
    "    company_names.append(i.text)\n",
    "company_names  "
   ]
  },
  {
   "cell_type": "markdown",
   "id": "0dc15c38",
   "metadata": {},
   "source": [
    " # Extracting experience"
   ]
  },
  {
   "cell_type": "code",
   "execution_count": 35,
   "id": "3f09d7ec",
   "metadata": {},
   "outputs": [
    {
     "data": {
      "text/plain": [
       "10"
      ]
     },
     "execution_count": 35,
     "metadata": {},
     "output_type": "execute_result"
    }
   ],
   "source": [
    "# Lets extract all web elements having experience using parent tag\n",
    "experience =[]\n",
    "exp_tags = driver.find_elements(By.XPATH,'//span[@class=\"ellipsis fleft fs12 lh16 expwdth\"]')\n",
    "for i in exp_tags[0:10]:\n",
    "    experience.append(i.text)\n",
    "len(experience)"
   ]
  },
  {
   "cell_type": "markdown",
   "id": "2815c547",
   "metadata": {},
   "source": [
    "# Extracting Location"
   ]
  },
  {
   "cell_type": "code",
   "execution_count": 32,
   "id": "cb5319f9",
   "metadata": {},
   "outputs": [
    {
     "data": {
      "text/plain": [
       "10"
      ]
     },
     "execution_count": 32,
     "metadata": {},
     "output_type": "execute_result"
    }
   ],
   "source": [
    "location = []\n",
    "locn_tags = driver.find_elements(By.XPATH,'//li[@class=\"fleft grey-text br2 placeHolderLi location\"]')\n",
    "for i in locn_tags[0:10]:\n",
    "    location.append(i.text)\n",
    "len(location)"
   ]
  },
  {
   "cell_type": "code",
   "execution_count": 36,
   "id": "1df08c42",
   "metadata": {},
   "outputs": [
    {
     "data": {
      "text/plain": [
       "(10, 10, 10, 10)"
      ]
     },
     "execution_count": 36,
     "metadata": {},
     "output_type": "execute_result"
    }
   ],
   "source": [
    "len(location), len(experience), len(company_names),len(job_titles)"
   ]
  },
  {
   "cell_type": "code",
   "execution_count": 31,
   "id": "de949db2",
   "metadata": {},
   "outputs": [
    {
     "data": {
      "text/html": [
       "<div>\n",
       "<style scoped>\n",
       "    .dataframe tbody tr th:only-of-type {\n",
       "        vertical-align: middle;\n",
       "    }\n",
       "\n",
       "    .dataframe tbody tr th {\n",
       "        vertical-align: top;\n",
       "    }\n",
       "\n",
       "    .dataframe thead th {\n",
       "        text-align: right;\n",
       "    }\n",
       "</style>\n",
       "<table border=\"1\" class=\"dataframe\">\n",
       "  <thead>\n",
       "    <tr style=\"text-align: right;\">\n",
       "      <th></th>\n",
       "      <th>location</th>\n",
       "      <th>experience</th>\n",
       "      <th>company_names</th>\n",
       "      <th>job_titles</th>\n",
       "    </tr>\n",
       "  </thead>\n",
       "  <tbody>\n",
       "    <tr>\n",
       "      <th>0</th>\n",
       "      <td>Kolkata, Mumbai, Hyderabad/Secunderabad, Pune,...</td>\n",
       "      <td>6-8 Yrs</td>\n",
       "      <td>Accenture</td>\n",
       "      <td>Analystics &amp; Modeling Specialist</td>\n",
       "    </tr>\n",
       "    <tr>\n",
       "      <th>1</th>\n",
       "      <td>Hybrid - Pune, Chennai, Bangalore/Bengaluru</td>\n",
       "      <td>6-11 Yrs</td>\n",
       "      <td>Wipro</td>\n",
       "      <td>Senior Data Scientist</td>\n",
       "    </tr>\n",
       "    <tr>\n",
       "      <th>2</th>\n",
       "      <td>Hybrid - Mumbai, Pune, Bangalore/Bengaluru</td>\n",
       "      <td>5-9 Yrs</td>\n",
       "      <td>Citiustech</td>\n",
       "      <td>Assistant Manager - Data Science</td>\n",
       "    </tr>\n",
       "    <tr>\n",
       "      <th>3</th>\n",
       "      <td>Pune, Bangalore/Bengaluru</td>\n",
       "      <td>4-9 Yrs</td>\n",
       "      <td>Shell Info Technologies Private Limited</td>\n",
       "      <td>Data Scientist</td>\n",
       "    </tr>\n",
       "    <tr>\n",
       "      <th>4</th>\n",
       "      <td>Hyderabad/Secunderabad, Pune, Chennai, Bangalo...</td>\n",
       "      <td>2-7 Yrs</td>\n",
       "      <td>Altair</td>\n",
       "      <td>Data Scientist</td>\n",
       "    </tr>\n",
       "    <tr>\n",
       "      <th>5</th>\n",
       "      <td>Bangalore/Bengaluru</td>\n",
       "      <td>5-7 Yrs</td>\n",
       "      <td>Quest Global</td>\n",
       "      <td>Data Scientist</td>\n",
       "    </tr>\n",
       "    <tr>\n",
       "      <th>6</th>\n",
       "      <td>Bangalore/Bengaluru</td>\n",
       "      <td>2-6 Yrs</td>\n",
       "      <td>Accenture</td>\n",
       "      <td>ACN - Applied Intelligence - Data Scientist - 09</td>\n",
       "    </tr>\n",
       "    <tr>\n",
       "      <th>7</th>\n",
       "      <td>Bangalore/Bengaluru</td>\n",
       "      <td>1-3 Yrs</td>\n",
       "      <td>24 7 ai</td>\n",
       "      <td>Data Scientist - 2</td>\n",
       "    </tr>\n",
       "    <tr>\n",
       "      <th>8</th>\n",
       "      <td>Hybrid - Hyderabad/Secunderabad, Bangalore/Ben...</td>\n",
       "      <td>5-10 Yrs</td>\n",
       "      <td>Wipro</td>\n",
       "      <td>Data Scientist - Looking For Immediate Joiners</td>\n",
       "    </tr>\n",
       "    <tr>\n",
       "      <th>9</th>\n",
       "      <td>Mumbai, New Delhi, Chennai, Bangalore/Bengaluru</td>\n",
       "      <td>5-10 Yrs</td>\n",
       "      <td>Boston Consulting Group</td>\n",
       "      <td>Senior Data Scientist</td>\n",
       "    </tr>\n",
       "    <tr>\n",
       "      <th>10</th>\n",
       "      <td>India, Bangalore/Bengaluru, Mumbai (All Areas)</td>\n",
       "      <td>3-6 Yrs</td>\n",
       "      <td>Bizongo</td>\n",
       "      <td>Data Scientist - II</td>\n",
       "    </tr>\n",
       "    <tr>\n",
       "      <th>11</th>\n",
       "      <td>Mumbai, Bangalore/Bengaluru</td>\n",
       "      <td>6-10 Yrs</td>\n",
       "      <td>Fractal Analytics</td>\n",
       "      <td>Lead ML Scientist</td>\n",
       "    </tr>\n",
       "    <tr>\n",
       "      <th>12</th>\n",
       "      <td>Bangalore/Bengaluru</td>\n",
       "      <td>4-6 Yrs</td>\n",
       "      <td>Accenture</td>\n",
       "      <td>Python Programming Language Data Science Pract...</td>\n",
       "    </tr>\n",
       "    <tr>\n",
       "      <th>13</th>\n",
       "      <td>Bangalore/Bengaluru</td>\n",
       "      <td>3-5 Yrs</td>\n",
       "      <td>Accenture</td>\n",
       "      <td>Industry X - Software Engineering</td>\n",
       "    </tr>\n",
       "    <tr>\n",
       "      <th>14</th>\n",
       "      <td>Bangalore/Bengaluru</td>\n",
       "      <td>4-8 Yrs</td>\n",
       "      <td>IBM</td>\n",
       "      <td>Data Scientist: Artificial Intelligence</td>\n",
       "    </tr>\n",
       "    <tr>\n",
       "      <th>15</th>\n",
       "      <td>Bangalore/Bengaluru</td>\n",
       "      <td>4-6 Yrs</td>\n",
       "      <td>Accenture</td>\n",
       "      <td>ACN - Applied Intelligence - C4DI - Sustainabi...</td>\n",
       "    </tr>\n",
       "    <tr>\n",
       "      <th>16</th>\n",
       "      <td>Bangalore/Bengaluru</td>\n",
       "      <td>4-7 Yrs</td>\n",
       "      <td>Applied Materials</td>\n",
       "      <td>Data Scientist</td>\n",
       "    </tr>\n",
       "    <tr>\n",
       "      <th>17</th>\n",
       "      <td>Bangalore/Bengaluru</td>\n",
       "      <td>4-7 Yrs</td>\n",
       "      <td>Applied Materials</td>\n",
       "      <td>Data Scientist</td>\n",
       "    </tr>\n",
       "    <tr>\n",
       "      <th>18</th>\n",
       "      <td>Bangalore/Bengaluru</td>\n",
       "      <td>1-2 Yrs</td>\n",
       "      <td>Puma Sports India</td>\n",
       "      <td>Data Scientist</td>\n",
       "    </tr>\n",
       "    <tr>\n",
       "      <th>19</th>\n",
       "      <td>Noida, Hyderabad/Secunderabad, Chennai, Bangal...</td>\n",
       "      <td>4-9 Yrs</td>\n",
       "      <td>HCLTech</td>\n",
       "      <td>Data Scientist</td>\n",
       "    </tr>\n",
       "  </tbody>\n",
       "</table>\n",
       "</div>"
      ],
      "text/plain": [
       "                                             location experience  \\\n",
       "0   Kolkata, Mumbai, Hyderabad/Secunderabad, Pune,...    6-8 Yrs   \n",
       "1         Hybrid - Pune, Chennai, Bangalore/Bengaluru   6-11 Yrs   \n",
       "2          Hybrid - Mumbai, Pune, Bangalore/Bengaluru    5-9 Yrs   \n",
       "3                           Pune, Bangalore/Bengaluru    4-9 Yrs   \n",
       "4   Hyderabad/Secunderabad, Pune, Chennai, Bangalo...    2-7 Yrs   \n",
       "5                                 Bangalore/Bengaluru    5-7 Yrs   \n",
       "6                                 Bangalore/Bengaluru    2-6 Yrs   \n",
       "7                                 Bangalore/Bengaluru    1-3 Yrs   \n",
       "8   Hybrid - Hyderabad/Secunderabad, Bangalore/Ben...   5-10 Yrs   \n",
       "9     Mumbai, New Delhi, Chennai, Bangalore/Bengaluru   5-10 Yrs   \n",
       "10     India, Bangalore/Bengaluru, Mumbai (All Areas)    3-6 Yrs   \n",
       "11                        Mumbai, Bangalore/Bengaluru   6-10 Yrs   \n",
       "12                                Bangalore/Bengaluru    4-6 Yrs   \n",
       "13                                Bangalore/Bengaluru    3-5 Yrs   \n",
       "14                                Bangalore/Bengaluru    4-8 Yrs   \n",
       "15                                Bangalore/Bengaluru    4-6 Yrs   \n",
       "16                                Bangalore/Bengaluru    4-7 Yrs   \n",
       "17                                Bangalore/Bengaluru    4-7 Yrs   \n",
       "18                                Bangalore/Bengaluru    1-2 Yrs   \n",
       "19  Noida, Hyderabad/Secunderabad, Chennai, Bangal...    4-9 Yrs   \n",
       "\n",
       "                              company_names  \\\n",
       "0                                 Accenture   \n",
       "1                                     Wipro   \n",
       "2                                Citiustech   \n",
       "3   Shell Info Technologies Private Limited   \n",
       "4                                    Altair   \n",
       "5                              Quest Global   \n",
       "6                                 Accenture   \n",
       "7                                   24 7 ai   \n",
       "8                                     Wipro   \n",
       "9                   Boston Consulting Group   \n",
       "10                                  Bizongo   \n",
       "11                        Fractal Analytics   \n",
       "12                                Accenture   \n",
       "13                                Accenture   \n",
       "14                                      IBM   \n",
       "15                                Accenture   \n",
       "16                        Applied Materials   \n",
       "17                        Applied Materials   \n",
       "18                        Puma Sports India   \n",
       "19                                  HCLTech   \n",
       "\n",
       "                                           job_titles  \n",
       "0                    Analystics & Modeling Specialist  \n",
       "1                               Senior Data Scientist  \n",
       "2                    Assistant Manager - Data Science  \n",
       "3                                      Data Scientist  \n",
       "4                                      Data Scientist  \n",
       "5                                      Data Scientist  \n",
       "6    ACN - Applied Intelligence - Data Scientist - 09  \n",
       "7                                  Data Scientist - 2  \n",
       "8      Data Scientist - Looking For Immediate Joiners  \n",
       "9                               Senior Data Scientist  \n",
       "10                                Data Scientist - II  \n",
       "11                                  Lead ML Scientist  \n",
       "12  Python Programming Language Data Science Pract...  \n",
       "13                  Industry X - Software Engineering  \n",
       "14            Data Scientist: Artificial Intelligence  \n",
       "15  ACN - Applied Intelligence - C4DI - Sustainabi...  \n",
       "16                                     Data Scientist  \n",
       "17                                     Data Scientist  \n",
       "18                                     Data Scientist  \n",
       "19                                     Data Scientist  "
      ]
     },
     "execution_count": 31,
     "metadata": {},
     "output_type": "execute_result"
    }
   ],
   "source": [
    "jobs= pd.DataFrame()\n",
    "jobs['location'] = location\n",
    "jobs['experience'] = experience\n",
    "jobs['company_names'] = company_names\n",
    "jobs['job_titles'] = job_titles\n",
    "jobs"
   ]
  },
  {
   "cell_type": "markdown",
   "id": "a5ae54b1",
   "metadata": {},
   "source": [
    "# Question 2"
   ]
  },
  {
   "cell_type": "code",
   "execution_count": 69,
   "id": "515fe740",
   "metadata": {},
   "outputs": [],
   "source": [
    "#opening up naukri.com website on automated chrome window\n",
    "url = 'https://www.naukri.com/'\n",
    "driver.get(url)"
   ]
  },
  {
   "cell_type": "code",
   "execution_count": 76,
   "id": "1a2eb365",
   "metadata": {},
   "outputs": [],
   "source": [
    "# finding web element for search job bar\n",
    "search_job = driver.find_element(By.CLASS_NAME,\"suggestor-input\")\n",
    "search_job.send_keys(\"Data scientist\")"
   ]
  },
  {
   "cell_type": "code",
   "execution_count": 78,
   "id": "ddc43e03",
   "metadata": {},
   "outputs": [
    {
     "ename": "InvalidSelectorException",
     "evalue": "Message: invalid selector: Unable to locate an element with the xpath expression //div[@class,\"qsbSubmit\"] because of the following error:\nSyntaxError: Failed to execute 'evaluate' on 'Document': The string '//div[@class,\"qsbSubmit\"]' is not a valid XPath expression.\n  (Session info: chrome=107.0.5304.88)\nStacktrace:\nBacktrace:\n\tOrdinal0 [0x003BACD3+2075859]\n\tOrdinal0 [0x0034EE61+1633889]\n\tOrdinal0 [0x0024B7BD+571325]\n\tOrdinal0 [0x0024E374+582516]\n\tOrdinal0 [0x0024E225+582181]\n\tOrdinal0 [0x0024E4C0+582848]\n\tOrdinal0 [0x0027A9A2+764322]\n\tOrdinal0 [0x0027AE1B+765467]\n\tOrdinal0 [0x002AD0F2+970994]\n\tOrdinal0 [0x00297364+881508]\n\tOrdinal0 [0x002AB56A+963946]\n\tOrdinal0 [0x00297136+880950]\n\tOrdinal0 [0x0026FEFD+720637]\n\tOrdinal0 [0x00270F3F+724799]\n\tGetHandleVerifier [0x0066EED2+2769538]\n\tGetHandleVerifier [0x00660D95+2711877]\n\tGetHandleVerifier [0x0044A03A+521194]\n\tGetHandleVerifier [0x00448DA0+516432]\n\tOrdinal0 [0x0035682C+1665068]\n\tOrdinal0 [0x0035B128+1683752]\n\tOrdinal0 [0x0035B215+1683989]\n\tOrdinal0 [0x00366484+1729668]\n\tBaseThreadInitThunk [0x76577BA9+25]\n\tRtlInitializeExceptionChain [0x776ABB9B+107]\n\tRtlClearBits [0x776ABB1F+191]\n",
     "output_type": "error",
     "traceback": [
      "\u001b[1;31m---------------------------------------------------------------------------\u001b[0m",
      "\u001b[1;31mInvalidSelectorException\u001b[0m                  Traceback (most recent call last)",
      "Input \u001b[1;32mIn [78]\u001b[0m, in \u001b[0;36m<cell line: 2>\u001b[1;34m()\u001b[0m\n\u001b[0;32m      1\u001b[0m \u001b[38;5;66;03m# Clicking using absolute xpath function\u001b[39;00m\n\u001b[1;32m----> 2\u001b[0m search_locn \u001b[38;5;241m=\u001b[39m \u001b[43mdriver\u001b[49m\u001b[38;5;241;43m.\u001b[39;49m\u001b[43mfind_element\u001b[49m\u001b[43m(\u001b[49m\u001b[43mBy\u001b[49m\u001b[38;5;241;43m.\u001b[39;49m\u001b[43mXPATH\u001b[49m\u001b[43m,\u001b[49m\u001b[38;5;124;43m'\u001b[39;49m\u001b[38;5;124;43m//div[@class,\u001b[39;49m\u001b[38;5;124;43m\"\u001b[39;49m\u001b[38;5;124;43mqsbSubmit\u001b[39;49m\u001b[38;5;124;43m\"\u001b[39;49m\u001b[38;5;124;43m]\u001b[39;49m\u001b[38;5;124;43m'\u001b[39;49m\u001b[43m)\u001b[49m\n\u001b[0;32m      3\u001b[0m search_locn\u001b[38;5;241m.\u001b[39mclick()\n",
      "File \u001b[1;32m~\\anaconda3\\lib\\site-packages\\selenium\\webdriver\\remote\\webdriver.py:856\u001b[0m, in \u001b[0;36mWebDriver.find_element\u001b[1;34m(self, by, value)\u001b[0m\n\u001b[0;32m    853\u001b[0m     by \u001b[38;5;241m=\u001b[39m By\u001b[38;5;241m.\u001b[39mCSS_SELECTOR\n\u001b[0;32m    854\u001b[0m     value \u001b[38;5;241m=\u001b[39m \u001b[38;5;124m'\u001b[39m\u001b[38;5;124m[name=\u001b[39m\u001b[38;5;124m\"\u001b[39m\u001b[38;5;132;01m%s\u001b[39;00m\u001b[38;5;124m\"\u001b[39m\u001b[38;5;124m]\u001b[39m\u001b[38;5;124m'\u001b[39m \u001b[38;5;241m%\u001b[39m value\n\u001b[1;32m--> 856\u001b[0m \u001b[38;5;28;01mreturn\u001b[39;00m \u001b[38;5;28;43mself\u001b[39;49m\u001b[38;5;241;43m.\u001b[39;49m\u001b[43mexecute\u001b[49m\u001b[43m(\u001b[49m\u001b[43mCommand\u001b[49m\u001b[38;5;241;43m.\u001b[39;49m\u001b[43mFIND_ELEMENT\u001b[49m\u001b[43m,\u001b[49m\u001b[43m \u001b[49m\u001b[43m{\u001b[49m\n\u001b[0;32m    857\u001b[0m \u001b[43m    \u001b[49m\u001b[38;5;124;43m'\u001b[39;49m\u001b[38;5;124;43musing\u001b[39;49m\u001b[38;5;124;43m'\u001b[39;49m\u001b[43m:\u001b[49m\u001b[43m \u001b[49m\u001b[43mby\u001b[49m\u001b[43m,\u001b[49m\n\u001b[0;32m    858\u001b[0m \u001b[43m    \u001b[49m\u001b[38;5;124;43m'\u001b[39;49m\u001b[38;5;124;43mvalue\u001b[39;49m\u001b[38;5;124;43m'\u001b[39;49m\u001b[43m:\u001b[49m\u001b[43m \u001b[49m\u001b[43mvalue\u001b[49m\u001b[43m}\u001b[49m\u001b[43m)\u001b[49m[\u001b[38;5;124m'\u001b[39m\u001b[38;5;124mvalue\u001b[39m\u001b[38;5;124m'\u001b[39m]\n",
      "File \u001b[1;32m~\\anaconda3\\lib\\site-packages\\selenium\\webdriver\\remote\\webdriver.py:429\u001b[0m, in \u001b[0;36mWebDriver.execute\u001b[1;34m(self, driver_command, params)\u001b[0m\n\u001b[0;32m    427\u001b[0m response \u001b[38;5;241m=\u001b[39m \u001b[38;5;28mself\u001b[39m\u001b[38;5;241m.\u001b[39mcommand_executor\u001b[38;5;241m.\u001b[39mexecute(driver_command, params)\n\u001b[0;32m    428\u001b[0m \u001b[38;5;28;01mif\u001b[39;00m response:\n\u001b[1;32m--> 429\u001b[0m     \u001b[38;5;28;43mself\u001b[39;49m\u001b[38;5;241;43m.\u001b[39;49m\u001b[43merror_handler\u001b[49m\u001b[38;5;241;43m.\u001b[39;49m\u001b[43mcheck_response\u001b[49m\u001b[43m(\u001b[49m\u001b[43mresponse\u001b[49m\u001b[43m)\u001b[49m\n\u001b[0;32m    430\u001b[0m     response[\u001b[38;5;124m'\u001b[39m\u001b[38;5;124mvalue\u001b[39m\u001b[38;5;124m'\u001b[39m] \u001b[38;5;241m=\u001b[39m \u001b[38;5;28mself\u001b[39m\u001b[38;5;241m.\u001b[39m_unwrap_value(\n\u001b[0;32m    431\u001b[0m         response\u001b[38;5;241m.\u001b[39mget(\u001b[38;5;124m'\u001b[39m\u001b[38;5;124mvalue\u001b[39m\u001b[38;5;124m'\u001b[39m, \u001b[38;5;28;01mNone\u001b[39;00m))\n\u001b[0;32m    432\u001b[0m     \u001b[38;5;28;01mreturn\u001b[39;00m response\n",
      "File \u001b[1;32m~\\anaconda3\\lib\\site-packages\\selenium\\webdriver\\remote\\errorhandler.py:243\u001b[0m, in \u001b[0;36mErrorHandler.check_response\u001b[1;34m(self, response)\u001b[0m\n\u001b[0;32m    241\u001b[0m         alert_text \u001b[38;5;241m=\u001b[39m value[\u001b[38;5;124m'\u001b[39m\u001b[38;5;124malert\u001b[39m\u001b[38;5;124m'\u001b[39m]\u001b[38;5;241m.\u001b[39mget(\u001b[38;5;124m'\u001b[39m\u001b[38;5;124mtext\u001b[39m\u001b[38;5;124m'\u001b[39m)\n\u001b[0;32m    242\u001b[0m     \u001b[38;5;28;01mraise\u001b[39;00m exception_class(message, screen, stacktrace, alert_text)  \u001b[38;5;66;03m# type: ignore[call-arg]  # mypy is not smart enough here\u001b[39;00m\n\u001b[1;32m--> 243\u001b[0m \u001b[38;5;28;01mraise\u001b[39;00m exception_class(message, screen, stacktrace)\n",
      "\u001b[1;31mInvalidSelectorException\u001b[0m: Message: invalid selector: Unable to locate an element with the xpath expression //div[@class,\"qsbSubmit\"] because of the following error:\nSyntaxError: Failed to execute 'evaluate' on 'Document': The string '//div[@class,\"qsbSubmit\"]' is not a valid XPath expression.\n  (Session info: chrome=107.0.5304.88)\nStacktrace:\nBacktrace:\n\tOrdinal0 [0x003BACD3+2075859]\n\tOrdinal0 [0x0034EE61+1633889]\n\tOrdinal0 [0x0024B7BD+571325]\n\tOrdinal0 [0x0024E374+582516]\n\tOrdinal0 [0x0024E225+582181]\n\tOrdinal0 [0x0024E4C0+582848]\n\tOrdinal0 [0x0027A9A2+764322]\n\tOrdinal0 [0x0027AE1B+765467]\n\tOrdinal0 [0x002AD0F2+970994]\n\tOrdinal0 [0x00297364+881508]\n\tOrdinal0 [0x002AB56A+963946]\n\tOrdinal0 [0x00297136+880950]\n\tOrdinal0 [0x0026FEFD+720637]\n\tOrdinal0 [0x00270F3F+724799]\n\tGetHandleVerifier [0x0066EED2+2769538]\n\tGetHandleVerifier [0x00660D95+2711877]\n\tGetHandleVerifier [0x0044A03A+521194]\n\tGetHandleVerifier [0x00448DA0+516432]\n\tOrdinal0 [0x0035682C+1665068]\n\tOrdinal0 [0x0035B128+1683752]\n\tOrdinal0 [0x0035B215+1683989]\n\tOrdinal0 [0x00366484+1729668]\n\tBaseThreadInitThunk [0x76577BA9+25]\n\tRtlInitializeExceptionChain [0x776ABB9B+107]\n\tRtlClearBits [0x776ABB1F+191]\n"
     ]
    }
   ],
   "source": [
    "# Clicking using absolute xpath function\n",
    "search_locn = driver.find_element(By.XPATH,'//div[@class,\"qsbSubmit\"]')\n",
    "search_locn.click() "
   ]
  },
  {
   "cell_type": "code",
   "execution_count": 73,
   "id": "78da2dd3",
   "metadata": {},
   "outputs": [
    {
     "ename": "AttributeError",
     "evalue": "'list' object has no attribute 'click'",
     "output_type": "error",
     "traceback": [
      "\u001b[1;31m---------------------------------------------------------------------------\u001b[0m",
      "\u001b[1;31mAttributeError\u001b[0m                            Traceback (most recent call last)",
      "Input \u001b[1;32mIn [73]\u001b[0m, in \u001b[0;36m<cell line: 3>\u001b[1;34m()\u001b[0m\n\u001b[0;32m      1\u001b[0m \u001b[38;5;66;03m##apply the search location filter and salary filter by checking the repective boxes\u001b[39;00m\n\u001b[0;32m      2\u001b[0m Filter_location \u001b[38;5;241m=\u001b[39m driver\u001b[38;5;241m.\u001b[39mfind_elements(By\u001b[38;5;241m.\u001b[39mXPATH,\u001b[38;5;124m'\u001b[39m\u001b[38;5;124m//i[@class=\u001b[39m\u001b[38;5;124m\"\u001b[39m\u001b[38;5;124mfleft naukicon naukicon-checked\u001b[39m\u001b[38;5;124m\"\u001b[39m\u001b[38;5;124m]\u001b[39m\u001b[38;5;124m'\u001b[39m)\n\u001b[1;32m----> 3\u001b[0m \u001b[43mFilter_location\u001b[49m\u001b[38;5;241;43m.\u001b[39;49m\u001b[43mclick\u001b[49m()\n\u001b[0;32m      5\u001b[0m time\u001b[38;5;241m.\u001b[39msleep(\u001b[38;5;241m3\u001b[39m)\n\u001b[0;32m      7\u001b[0m filter_salary \u001b[38;5;241m=\u001b[39m[]\n",
      "\u001b[1;31mAttributeError\u001b[0m: 'list' object has no attribute 'click'"
     ]
    }
   ],
   "source": [
    "##apply the search location filter and salary filter by checking the repective boxes\n",
    "Filter_location = driver.find_elements(By.XPATH,'//i[@class=\"fleft naukicon naukicon-checked\"]')\n",
    "Filter_location.click()\n",
    "\n",
    "time.sleep(3)\n",
    "\n",
    "filter_salary =[]\n",
    "filter_salary = driver.find_elements(By.XPATH,'//i[@class=\"fleft naukicon naukicon-checkbox\"]')\n",
    "filter_salary.click()\n",
    "\n"
   ]
  },
  {
   "cell_type": "code",
   "execution_count": 55,
   "id": "44100826",
   "metadata": {},
   "outputs": [
    {
     "data": {
      "text/plain": [
       "['Data Scientist',\n",
       " 'Back End Developer',\n",
       " 'Other',\n",
       " 'Full Stack Developer',\n",
       " 'Work from office',\n",
       " 'Hybrid',\n",
       " 'Temp. WFH due to covid',\n",
       " 'Permanent Remote / WFH',\n",
       " 'Data Science & Analytics',\n",
       " 'Bangalore/Bengaluru']"
      ]
     },
     "execution_count": 55,
     "metadata": {},
     "output_type": "execute_result"
    }
   ],
   "source": [
    "location"
   ]
  },
  {
   "cell_type": "code",
   "execution_count": null,
   "id": "088d8277",
   "metadata": {},
   "outputs": [],
   "source": []
  }
 ],
 "metadata": {
  "kernelspec": {
   "display_name": "Python 3 (ipykernel)",
   "language": "python",
   "name": "python3"
  },
  "language_info": {
   "codemirror_mode": {
    "name": "ipython",
    "version": 3
   },
   "file_extension": ".py",
   "mimetype": "text/x-python",
   "name": "python",
   "nbconvert_exporter": "python",
   "pygments_lexer": "ipython3",
   "version": "3.9.12"
  }
 },
 "nbformat": 4,
 "nbformat_minor": 5
}
